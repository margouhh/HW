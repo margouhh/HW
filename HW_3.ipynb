{
  "nbformat": 4,
  "nbformat_minor": 0,
  "metadata": {
    "colab": {
      "provenance": [],
      "authorship_tag": "ABX9TyP8HaY6y35gSAHPhsjCC+TG",
      "include_colab_link": true
    },
    "kernelspec": {
      "name": "python3",
      "display_name": "Python 3"
    },
    "language_info": {
      "name": "python"
    }
  },
  "cells": [
    {
      "cell_type": "markdown",
      "metadata": {
        "id": "view-in-github",
        "colab_type": "text"
      },
      "source": [
        "<a href=\"https://colab.research.google.com/github/margouhh/HW/blob/main/HW_3.ipynb\" target=\"_parent\"><img src=\"https://colab.research.google.com/assets/colab-badge.svg\" alt=\"Open In Colab\"/></a>"
      ]
    },
    {
      "cell_type": "code",
      "execution_count": 5,
      "metadata": {
        "colab": {
          "base_uri": "https://localhost:8080/"
        },
        "id": "A8szhokQs-MX",
        "outputId": "47634ba1-8e0c-4787-a923-342bd221c1a2"
      },
      "outputs": [
        {
          "output_type": "stream",
          "name": "stdout",
          "text": [
            ":56382\n",
            "(0 <= a <= 8):6\n",
            "z (2, 3, 4): 3\n",
            "а) Цифра 6 встречается 1 раз(а).\n",
            "б) Количество цифр, кратных 3: 2.\n",
            "в) Сумма цифр, больших 6: 8.\n"
          ]
        }
      ],
      "source": [
        "K = int(input(\":\"))\n",
        "a = int(input(\"(0 <= a <= 8):\"))\n",
        "z = int(input(\"z (2, 3, 4): \"))\n",
        "count_a = 0\n",
        "count_multiple_z = 0\n",
        "sum_a = 0\n",
        "K_str = str(K)\n",
        "for current_digit in K_str:\n",
        "    current_digit = int(current_digit)\n",
        "    if current_digit == a:\n",
        "        count_a += 1\n",
        "    if current_digit % z == 0:\n",
        "        count_multiple_z += 1\n",
        "    if current_digit > a:\n",
        "        sum_a += current_digit\n",
        "print(f\"а) Цифра {a} встречается {count_a} раз(а).\")\n",
        "print(f\"б) Количество цифр, кратных {z}: {count_multiple_z}.\")\n",
        "print(f\"в) Сумма цифр, больших {a}: {sum_a}.\")"
      ]
    },
    {
      "cell_type": "code",
      "source": [
        "N= int(input(\":\"))\n",
        "product = 1.0\n",
        "for i in range(1, N + 1):\n",
        "  numerator = 2 * i - 1\n",
        "  denominator = 2 * i\n",
        "  product *= numerator / denominator\n",
        "print(\"Произведение первых\", N, \"сомножителей:\", product)"
      ],
      "metadata": {
        "colab": {
          "base_uri": "https://localhost:8080/"
        },
        "id": "gNsQbcPq2tod",
        "outputId": "b2dadc36-199e-4bd0-c61b-7b408dcbbd12"
      },
      "execution_count": 6,
      "outputs": [
        {
          "output_type": "stream",
          "name": "stdout",
          "text": [
            ":46\n",
            "Произведение первых 46 сомножителей: 0.08295948034752905\n"
          ]
        }
      ]
    },
    {
      "cell_type": "markdown",
      "source": [],
      "metadata": {
        "id": "YldeZSzvtBaR"
      }
    },
    {
      "cell_type": "code",
      "source": [
        "K = 10**(-3)\n",
        "current_term = 1\n",
        "sum_of_series = 0\n",
        "n = 1\n",
        "while current_term >= K:\n",
        "    sum_of_series += current_term\n",
        "    n += 1\n",
        "    current_term = (2 * n + n**2) / (2**n)\n",
        "print(\"Сумма ряда с точностью\",K, \":\", sum_of_series)\n"
      ],
      "metadata": {
        "colab": {
          "base_uri": "https://localhost:8080/"
        },
        "id": "r_QQCQ9o8LfJ",
        "outputId": "407f561c-4aeb-4b36-de42-0f9dba79fdb8"
      },
      "execution_count": 13,
      "outputs": [
        {
          "output_type": "stream",
          "name": "stdout",
          "text": [
            "Сумма ряда с точностью 0.001 : 9.498313903808594\n"
          ]
        }
      ]
    },
    {
      "cell_type": "code",
      "source": [
        "N = int(input(\"N (> 2):\"))\n",
        "if N <= 2:\n",
        "    print(\"Число N должно быть больше 2\")\n",
        "else:\n",
        "    numbers = list(map(float, input(\"Введите набор из N вещественных чисел: \").split()))\n",
        "    if len(numbers) != N:\n",
        "        print(\"Количество введенных чисел не соответствует значению N.\")\n",
        "    else:\n",
        "        pilobrazny = True\n",
        "        for i in range(1, N - 1):\n",
        "            if not (numbers[i] > numbers[i - 1] and numbers[i] > numbers[i + 1] or\n",
        "                    numbers[i] < numbers[i - 1] and numbers[i] < numbers[i + 1]):\n",
        "                print(i + 1)\n",
        "                pilobrazny = False\n",
        "                break\n",
        "        if pilobrazny:\n",
        "            print(0)\n"
      ],
      "metadata": {
        "colab": {
          "base_uri": "https://localhost:8080/"
        },
        "id": "S2EIr6g6_XtE",
        "outputId": "14e3f484-e3d8-4fe2-8793-d55ffd171738"
      },
      "execution_count": 22,
      "outputs": [
        {
          "output_type": "stream",
          "name": "stdout",
          "text": [
            "N (> 2):89\n",
            "Введите набор из N вещественных чисел: 65\n",
            "Количество введенных чисел не соответствует значению N.\n"
          ]
        }
      ]
    },
    {
      "cell_type": "markdown",
      "source": [
        "Вариант 23.\n",
        "\n",
        "1)\tДано натуральное число. Определить:\n",
        "а) сколько раз в нем встречается цифра а;\n",
        "б) количество его цифр, кратных z (значение z вводится с клавиатуры; z 2, 3, 4);\n",
        "в) сумму его цифр, больших a (значение a вводится с клавиатуры; 0<=a<=8);\n",
        "\n",
        "2)\tДано натуральное число N. Вычислить произведение первых N сомножителей:\n",
        "\n",
        "![image.png](data:image/png;base64,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)\n",
        "\n",
        "3)\tНайти сумму ряда с точностью ε=10-3, общий член которого:\n",
        "\n",
        "![image.png](data:image/png;base64,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)\n",
        "\n",
        "4)\tДано целое число N (> 2) и набор из N вещественных чисел. Набор называется пилообразным, если каждый его внутренний элемент либо больше, либо меньше обоих своих соседей (то есть является «зубцом»). Если данный набор является пилообразным, то вывести 0; в противном случае вывести номер первого элемента, не являющегося зубцом.\n"
      ],
      "metadata": {
        "id": "LUP2xXA3z1lR"
      }
    }
  ]
}
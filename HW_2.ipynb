{
  "nbformat": 4,
  "nbformat_minor": 0,
  "metadata": {
    "colab": {
      "provenance": [],
      "authorship_tag": "ABX9TyMx9N3sSuTO3T+oiAindj1O",
      "include_colab_link": true
    },
    "kernelspec": {
      "name": "python3",
      "display_name": "Python 3"
    },
    "language_info": {
      "name": "python"
    }
  },
  "cells": [
    {
      "cell_type": "markdown",
      "metadata": {
        "id": "view-in-github",
        "colab_type": "text"
      },
      "source": [
        "<a href=\"https://colab.research.google.com/github/margouhh/HW/blob/main/HW_2.ipynb\" target=\"_parent\"><img src=\"https://colab.research.google.com/assets/colab-badge.svg\" alt=\"Open In Colab\"/></a>"
      ]
    },
    {
      "cell_type": "code",
      "execution_count": 7,
      "metadata": {
        "colab": {
          "base_uri": "https://localhost:8080/"
        },
        "id": "XtHbRXEeGBy9",
        "outputId": "9c6a8600-adcc-45ee-a9a4-c48d88a8fe12"
      },
      "outputs": [
        {
          "output_type": "stream",
          "name": "stdout",
          "text": [
            "x:-56\n",
            "23043682135570.176\n"
          ]
        }
      ],
      "source": [
        "import math\n",
        "x = float(input(\"x:\"))\n",
        "if x >= -7:\n",
        "    f_x = -x**2\n",
        "else:\n",
        "    f_x = (2**(-x)) / (x**2 - 9)\n",
        "    print(f_x)"
      ]
    },
    {
      "cell_type": "code",
      "source": [
        "x = float(input(\"x:\"))\n",
        "y = float(input(\"y:\"))\n",
        "if x > y:\n",
        "  pass\n",
        "else:\n",
        "   x, y = y, x\n",
        "print(x)\n",
        "print(y)"
      ],
      "metadata": {
        "colab": {
          "base_uri": "https://localhost:8080/"
        },
        "id": "4VggJ1kQlCyj",
        "outputId": "1a0800db-0ebd-4d01-a7b1-cc37d91f1497"
      },
      "execution_count": 9,
      "outputs": [
        {
          "output_type": "stream",
          "name": "stdout",
          "text": [
            "x:-13\n",
            "y:78\n",
            "78.0\n",
            "-13.0\n"
          ]
        }
      ]
    },
    {
      "cell_type": "code",
      "source": [
        "import math\n",
        "w = float(input(\"w\"))\n",
        "if w != 0:\n",
        "  if 1 / math.tan(w) < 0.5:\n",
        "    w = -w\n",
        "else:\n",
        "  w = 1\n",
        "print(w)"
      ],
      "metadata": {
        "colab": {
          "base_uri": "https://localhost:8080/"
        },
        "id": "y69GMhXElgUX",
        "outputId": "370b449c-dd22-40ef-90a8-180f42d88ef4"
      },
      "execution_count": 11,
      "outputs": [
        {
          "output_type": "stream",
          "name": "stdout",
          "text": [
            "w0\n",
            "1\n"
          ]
        }
      ]
    },
    {
      "cell_type": "code",
      "source": [
        "K = int(input(\": \"))\n",
        "if 100 <= K <= 999:\n",
        "  hundreds = K // 100\n",
        "  tens = (K // 10) % 10\n",
        "  units = K % 10\n",
        "  square_of_K = K ** 2\n",
        "  sum_of_cubes = hundreds ** 3 + tens ** 3 + units ** 3\n",
        "  if square_of_K == sum_of_cubes:\n",
        "    print(\"Квадрат трехзначного числа равен сумме кубов его цифр\")\n",
        "  else:\n",
        "        print(\"Квадрат трехзначного числа не равен сумме кубов его цифр\")"
      ],
      "metadata": {
        "colab": {
          "base_uri": "https://localhost:8080/"
        },
        "id": "upOSGsUjlyVw",
        "outputId": "f0dbed06-b041-41b1-b8b2-7ce895dd3037"
      },
      "execution_count": 18,
      "outputs": [
        {
          "output_type": "stream",
          "name": "stdout",
          "text": [
            ": 256\n",
            "Квадрат трехзначного числа не равен сумме кубов его цифр\n"
          ]
        }
      ]
    },
    {
      "cell_type": "code",
      "source": [
        "a = float(input(\"a:\"))\n",
        "b = float(input(\"b:\"))\n",
        "c = float(input(\"c:\"))\n",
        "if a + b > c and a + c > b and b + c > a:\n",
        "  print(\"Треугольник существует\")\n",
        "  if a**2 + b**2 == c**2 or a**2 + c**2 == b**2 or b**2 + c**2 == a**2:\n",
        "    type = \"прямоугольный\"\n",
        "  elif a**2 + b**2 > c**2 and a**2 + c**2 > b**2 and b**2 + c**2 > a**2:\n",
        "    type = \"остроугольный\"\n",
        "  else:\n",
        "    type = \"тупоугольный\"\n",
        "  if a == b == c:\n",
        "    subtype = \"равносторонний\"\n",
        "  elif a == b or b == c or a == c:\n",
        "    subtype = \"равнобедренный\"\n",
        "  else:\n",
        "    subtype = \"разносторонний\"\n",
        "  print(f\"Вид треугольника: {type}\")\n",
        "  print(f\"Особенности треугольника: {subtype}\")\n"
      ],
      "metadata": {
        "colab": {
          "base_uri": "https://localhost:8080/"
        },
        "id": "Bd3HWMLSmDKS",
        "outputId": "6d315075-fbed-4542-a3c1-4685df37e2e6"
      },
      "execution_count": 19,
      "outputs": [
        {
          "output_type": "stream",
          "name": "stdout",
          "text": [
            "a:5\n",
            "b:5\n",
            "c:5\n",
            "Треугольник существует\n",
            "Вид треугольника: остроугольный\n",
            "Особенности треугольника: равносторонний\n"
          ]
        }
      ]
    },
    {
      "cell_type": "markdown",
      "source": [
        "Вариант 23\n",
        "\n",
        "1) Для данного вещественного x найти значение следующей функции f, принимающей вещественные значения:\n",
        "\n",
        "![image.png](data:image/png;base64,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)\n",
        "\n",
        "2) Перераспределить значения переменных x и y так, чтобы в x оказалось большее из этих значений, а в y – меньшее.\n",
        "\n",
        "3) Если значение переменной w не равно 0 и при этом котангенс от w меньше 0.5, тогда поменять знак у w, а если значение w равно 0, тогда присвоить w значение 1.\n",
        "\n",
        "4) Дано трехзначное число. Определить, равен ли квадрат этого числа сумме кубов его цифр.\n",
        "\n",
        "5) Даны вещественные положительные числа a, b, c. Если существует треугольник со сторонами a, b, c, то:\n",
        "а) определить его вид (прямоугольный, остроугольный или тупоугольный);\n",
        "\n",
        "б) определить его вид (прямоугольный, остроугольный или тупоугольный) и особенности (равносторонний, равнобедренный, разносторонний).\n"
      ],
      "metadata": {
        "id": "DC7df2agGnI6"
      }
    }
  ]
}
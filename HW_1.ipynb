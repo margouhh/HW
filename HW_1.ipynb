{
  "nbformat": 4,
  "nbformat_minor": 0,
  "metadata": {
    "colab": {
      "provenance": [],
      "authorship_tag": "ABX9TyOLTeLdizUsc/E4nOD341Td",
      "include_colab_link": true
    },
    "kernelspec": {
      "name": "python3",
      "display_name": "Python 3"
    },
    "language_info": {
      "name": "python"
    }
  },
  "cells": [
    {
      "cell_type": "markdown",
      "metadata": {
        "id": "view-in-github",
        "colab_type": "text"
      },
      "source": [
        "<a href=\"https://colab.research.google.com/github/margouhh/HW/blob/main/HW_1.ipynb\" target=\"_parent\"><img src=\"https://colab.research.google.com/assets/colab-badge.svg\" alt=\"Open In Colab\"/></a>"
      ]
    },
    {
      "cell_type": "code",
      "source": [
        "a=float(input(\"a:\"))\n",
        "b=float(input(\"b:\"))\n",
        "x=float(input(\"x:\"))\n",
        "y=(2*a-4*b)/(3*a+6*b)-(x**3-1)/(x**2-1)\n",
        "print(y)"
      ],
      "metadata": {
        "colab": {
          "base_uri": "https://localhost:8080/"
        },
        "id": "DpaE2WZ-yI-l",
        "outputId": "c6c2b499-62da-41ad-b1b6-7bd07b73a641"
      },
      "execution_count": null,
      "outputs": [
        {
          "output_type": "stream",
          "name": "stdout",
          "text": [
            "a:2\n",
            "b:4\n",
            "x:15\n",
            "-15.4625\n"
          ]
        }
      ]
    },
    {
      "cell_type": "code",
      "source": [
        "import math\n",
        "x=float(input(\"x:\"))\n",
        "ln_x = math.log(x)\n",
        "z = ln_x**3 + 3 * ln_x\n",
        "print(z)"
      ],
      "metadata": {
        "colab": {
          "base_uri": "https://localhost:8080/"
        },
        "id": "zKwh65FL0W9k",
        "outputId": "f3f26cb0-4116-4516-e424-8d1bf9fc5007"
      },
      "execution_count": null,
      "outputs": [
        {
          "output_type": "stream",
          "name": "stdout",
          "text": [
            "x:6\n",
            "11.127546583272492\n"
          ]
        }
      ]
    },
    {
      "cell_type": "code",
      "source": [
        "import math\n",
        "a = float(input(\"a:\"))\n",
        "b = float(input(\"b:\"))\n",
        "c = float(input(\"c:\"))\n",
        "D = b**2 - 4*a*c\n",
        "x1 = (-b + math.sqrt(D)) / (2*a)\n",
        "x2 = (-b - math.sqrt(D)) / (2*a)\n",
        "print(\"x1 =\", x1)\n",
        "print(\"x2 =\", x2)"
      ],
      "metadata": {
        "colab": {
          "base_uri": "https://localhost:8080/"
        },
        "id": "CADO7L5334vK",
        "outputId": "47dd4cd7-fc8c-41b4-8f93-0a75ec1438b7"
      },
      "execution_count": null,
      "outputs": [
        {
          "output_type": "stream",
          "name": "stdout",
          "text": [
            "a:2\n",
            "b:4\n",
            "c:-8\n",
            "x1 = 1.2360679774997898\n",
            "x2 = -3.23606797749979\n"
          ]
        }
      ]
    },
    {
      "cell_type": "code",
      "source": [
        "K = int(input(\"K (1-365):\"))\n",
        "day_01_01 = 2\n",
        "day_K = (day_01_01 + K - 1) % 7\n",
        "day_K = (day_K + 7) % 7 or 7\n",
        "print(K, day_K)"
      ],
      "metadata": {
        "colab": {
          "base_uri": "https://localhost:8080/"
        },
        "id": "WCZoF6-o6Tre",
        "outputId": "e98d62f7-2314-4073-c4d3-fe85a8ffb252"
      },
      "execution_count": null,
      "outputs": [
        {
          "output_type": "stream",
          "name": "stdout",
          "text": [
            "K (1-365):45\n",
            "45 4\n"
          ]
        }
      ]
    },
    {
      "cell_type": "code",
      "source": [
        "A = int(input(\"A:\"))\n",
        "B = int(input(\"B:\"))\n",
        "C = int(input(\"C:\"))\n",
        "result = (A > 0) + (B > 0) + (C > 0) == 1\n",
        "print(result)"
      ],
      "metadata": {
        "colab": {
          "base_uri": "https://localhost:8080/"
        },
        "id": "SBG8OnLz9t9c",
        "outputId": "ec574bbd-0f56-4ad9-e5d9-548f67967778"
      },
      "execution_count": null,
      "outputs": [
        {
          "output_type": "stream",
          "name": "stdout",
          "text": [
            "A:-35\n",
            "B:78\n",
            "C:-23\n",
            "True\n"
          ]
        }
      ]
    },
    {
      "cell_type": "markdown",
      "source": [],
      "metadata": {
        "id": "lsj5JUVh7K44"
      }
    },
    {
      "cell_type": "markdown",
      "source": [
        "Вариант 23![image.png](data:image/png;base64,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)\n",
        "\n",
        "3)Вычислить корни квадратного уравнения  ax2+bx+c=0, заданного коэффициентами a,b и c (предполагается, что a не равно нулю и что дискриминант уравнения неотрицателен).\n",
        "4) Дни недели пронумерованы следующим образом: 1 — понедельник, 2 — вторник, …, 6 — суббота, 7 — воскресенье. Дано целое число K, лежащее в диапазоне 1–365. Определить номер дня недели для K-го дня года, если известно, что в этом году 1 января было вторником.\n",
        "5) Даны три целых числа: A, B, C. Проверить истинность высказывания: «Ровно одно из чисел A, B, C положительное».\n"
      ],
      "metadata": {
        "id": "onGfBPhFtK-5"
      }
    }
  ]
}